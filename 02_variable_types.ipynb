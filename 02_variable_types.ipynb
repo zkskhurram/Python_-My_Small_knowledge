{
 "cells": [
  {
   "cell_type": "markdown",
   "metadata": {},
   "source": [
    "# Type of Variables"
   ]
  },
  {
   "cell_type": "markdown",
   "metadata": {},
   "source": [
    "# 1.Integer (int)\n",
    "Integers are whole numbers, positive or negative, without decimal points.\n",
    "python\n"
   ]
  },
  {
   "cell_type": "code",
   "execution_count": null,
   "metadata": {},
   "outputs": [
    {
     "name": "stdout",
     "output_type": "stream",
     "text": [
      "<class 'int'>\n"
     ]
    }
   ],
   "source": [
    "# Example of an integer variable\n",
    "age=10\n",
    "print(type(age)) # Output <class 'int'>"
   ]
  },
  {
   "cell_type": "markdown",
   "metadata": {},
   "source": [
    "# 2.Floating-point numbers ( float )\n",
    "Float represents numbers that have a decimal point or in exponential form."
   ]
  },
  {
   "cell_type": "code",
   "execution_count": null,
   "metadata": {},
   "outputs": [
    {
     "name": "stdout",
     "output_type": "stream",
     "text": [
      "<class 'float'>\n"
     ]
    }
   ],
   "source": [
    "# Example of a floating-point variable\n",
    "temperature = 36.9\n",
    "print(type(temperature)) # Output <class 'float'>"
   ]
  },
  {
   "cell_type": "markdown",
   "metadata": {},
   "source": [
    "# 3.String (str)\n",
    "Strings are sequences of characters enclosed in single ( ' ) or double ( \" ) quotes."
   ]
  },
  {
   "cell_type": "code",
   "execution_count": null,
   "metadata": {},
   "outputs": [
    {
     "name": "stdout",
     "output_type": "stream",
     "text": [
      "<class 'str'>\n"
     ]
    },
    {
     "data": {
      "text/plain": [
       "str"
      ]
     },
     "execution_count": 14,
     "metadata": {},
     "output_type": "execute_result"
    }
   ],
   "source": [
    "# Example of a string variable\n",
    "greetings=\"Hello Codaniac!\"\n",
    "print(type(greetings)) # Output <class 'str'>\n",
    "type(greetings)"
   ]
  },
  {
   "cell_type": "markdown",
   "metadata": {},
   "source": [
    "# 4.Boolean (bool)\n",
    "Booleans represent one of two values: True or False ."
   ]
  },
  {
   "cell_type": "code",
   "execution_count": null,
   "metadata": {},
   "outputs": [
    {
     "name": "stdout",
     "output_type": "stream",
     "text": [
      "<class 'bool'>\n"
     ]
    }
   ],
   "source": [
    "is_raining=False\n",
    "type(is_raining)\n",
    "print(type(is_raining)) # Output <class 'bool'>"
   ]
  },
  {
   "cell_type": "markdown",
   "metadata": {},
   "source": [
    "# 4.List (list)\n",
    "Lists are ordered, mutable collections of items, which can be of any data type. Lists are defined using square brackets [.]"
   ]
  },
  {
   "cell_type": "code",
   "execution_count": null,
   "metadata": {},
   "outputs": [
    {
     "name": "stdout",
     "output_type": "stream",
     "text": [
      "<class 'list'>\n",
      "<class 'list'>\n"
     ]
    }
   ],
   "source": [
    "# Example of a list variable\n",
    "numbers=[1,2,3,4,5]\n",
    "print(type(numbers)) # Output <class 'list'>\n",
    "persons=[\"John\",\"Adam\",\"Robert\"]\n",
    "print(type(persons)) # Output <class 'list'>"
   ]
  },
  {
   "cell_type": "markdown",
   "metadata": {},
   "source": [
    "# 6.Tuple (tuple)\n",
    "Tuples are ordered, immutable collections of items. Tuples are defined using parentheses ( ) ."
   ]
  },
  {
   "cell_type": "code",
   "execution_count": null,
   "metadata": {},
   "outputs": [
    {
     "name": "stdout",
     "output_type": "stream",
     "text": [
      "<class 'tuple'>\n"
     ]
    }
   ],
   "source": [
    "# Example of a tuple variable\n",
    "prices=(10,20,30,40)\n",
    "print(type(prices)) # Output <class 'tuple'>"
   ]
  },
  {
   "cell_type": "markdown",
   "metadata": {},
   "source": [
    "# 7.Dictionary (dict)\n",
    "Dictionaries are unordered collections of key-value pairs, defined using curly braces { } ."
   ]
  },
  {
   "cell_type": "code",
   "execution_count": null,
   "metadata": {},
   "outputs": [
    {
     "name": "stdout",
     "output_type": "stream",
     "text": [
      "<class 'dict'>\n"
     ]
    }
   ],
   "source": [
    "# Example of a dictionary variable\n",
    "person = {\"name\": \"Alice\", \"age\": 30}\n",
    "print(type(person)) # Output <class 'dict'> "
   ]
  },
  {
   "cell_type": "markdown",
   "metadata": {},
   "source": [
    "# 8.Set (set)\n",
    "Sets are unordered collections of unique items, defined using curly braces { } or the set( ) function."
   ]
  },
  {
   "cell_type": "code",
   "execution_count": null,
   "metadata": {},
   "outputs": [
    {
     "name": "stdout",
     "output_type": "stream",
     "text": [
      "<class 'set'>\n"
     ]
    }
   ],
   "source": [
    "# Example of a set variable\n",
    "fruits = {\"apple\", \"banana\",\"orange\"}\n",
    "print(type(fruits)) # Output <class 'set'>"
   ]
  },
  {
   "cell_type": "markdown",
   "metadata": {},
   "source": [
    "# 9.None Type (Nonetype)\n",
    "None represents the absence of a value and is an object of its own datatype."
   ]
  },
  {
   "cell_type": "code",
   "execution_count": null,
   "metadata": {},
   "outputs": [
    {
     "name": "stdout",
     "output_type": "stream",
     "text": [
      "<class 'NoneType'>\n"
     ]
    }
   ],
   "source": [
    "# Example of a NoneType variable\n",
    "result=None\n",
    "print(type(result)) # Output <class 'nonetype'>"
   ]
  },
  {
   "cell_type": "markdown",
   "metadata": {},
   "source": [
    "# 10.Complex (complex)\n",
    "Complex numbers are numbers with' real and imaginary part. The imaginary part is denoted by j."
   ]
  },
  {
   "cell_type": "code",
   "execution_count": null,
   "metadata": {},
   "outputs": [
    {
     "name": "stdout",
     "output_type": "stream",
     "text": [
      "<class 'complex'>\n"
     ]
    }
   ],
   "source": [
    "# Example of a complex variable\n",
    "complex=1+2j\n",
    "print(type(complex)) # Output <class 'complex'>"
   ]
  },
  {
   "cell_type": "markdown",
   "metadata": {},
   "source": [
    "![Figure_02:](fig02.png)"
   ]
  }
 ],
 "metadata": {
  "kernelspec": {
   "display_name": "Python 3",
   "language": "python",
   "name": "python3"
  },
  "language_info": {
   "codemirror_mode": {
    "name": "ipython",
    "version": 3
   },
   "file_extension": ".py",
   "mimetype": "text/x-python",
   "name": "python",
   "nbconvert_exporter": "python",
   "pygments_lexer": "ipython3",
   "version": "3.13.7"
  }
 },
 "nbformat": 4,
 "nbformat_minor": 2
}
