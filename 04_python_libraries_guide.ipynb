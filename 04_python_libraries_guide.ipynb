{
 "cells": [
  {
   "cell_type": "markdown",
   "id": "2e9c90d6",
   "metadata": {},
   "source": [
    "# 🧠 Python Essential Libraries – Explained with Examples"
   ]
  },
  {
   "cell_type": "markdown",
   "id": "d5a263ff",
   "metadata": {},
   "source": [
    "## Introduction\n",
    "This notebook provides a professional overview of core Python libraries."
   ]
  },
  {
   "cell_type": "code",
   "execution_count": null,
   "id": "1586d42b",
   "metadata": {},
   "outputs": [],
   "source": [
    "import requests\n",
    "response = requests.get('https://api.github.com')\n",
    "print(response.status_code)"
   ]
  },
  {
   "cell_type": "code",
   "execution_count": null,
   "id": "c481ca5b",
   "metadata": {},
   "outputs": [],
   "source": [
    "import pandas as pd\n",
    "df = pd.DataFrame({'Name': ['Ali', 'Sara'], 'Age': [25, 30]})\n",
    "print(df)"
   ]
  },
  {
   "cell_type": "code",
   "execution_count": null,
   "id": "4cc53813",
   "metadata": {},
   "outputs": [],
   "source": [
    "import numpy as np\n",
    "arr = np.array([1, 2, 3, 4])\n",
    "print(np.mean(arr))"
   ]
  },
  {
   "cell_type": "code",
   "execution_count": null,
   "id": "30a38a02",
   "metadata": {},
   "outputs": [],
   "source": [
    "import matplotlib.pyplot as plt\n",
    "plt.plot([1,2,3,4],[10,20,25,30])\n",
    "plt.title('Simple Line Plot')\n",
    "plt.show()"
   ]
  },
  {
   "cell_type": "code",
   "execution_count": null,
   "id": "9a332903",
   "metadata": {},
   "outputs": [],
   "source": [
    "from bs4 import BeautifulSoup\n",
    "html = '<html><body><h1>Hello</h1></body></html>'\n",
    "soup = BeautifulSoup(html, 'html.parser')\n",
    "print(soup.h1.text)"
   ]
  },
  {
   "cell_type": "code",
   "execution_count": null,
   "id": "dee56478",
   "metadata": {},
   "outputs": [],
   "source": [
    "from sklearn.linear_model import LinearRegression\n",
    "X=[[1],[2],[3],[4]]; y=[2,4,6,8]\n",
    "model=LinearRegression().fit(X,y)\n",
    "print(model.predict([[5]]))"
   ]
  },
  {
   "cell_type": "code",
   "execution_count": null,
   "id": "b1127002",
   "metadata": {},
   "outputs": [],
   "source": [
    "import tensorflow as tf\n",
    "print(tf.__version__)"
   ]
  }
 ],
 "metadata": {},
 "nbformat": 4,
 "nbformat_minor": 5
}
