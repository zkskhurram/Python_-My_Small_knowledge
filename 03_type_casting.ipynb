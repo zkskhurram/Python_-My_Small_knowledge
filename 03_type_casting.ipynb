{
 "cells": [
  {
   "cell_type": "markdown",
   "metadata": {},
   "source": [
    "# 📘 Type Casting"
   ]
  },
  {
   "cell_type": "markdown",
   "metadata": {},
   "source": [
    "#### ⚙️ **Type casting** in Python is the process of converting one data type into another.\n"
   ]
  },
  {
   "cell_type": "markdown",
   "metadata": {},
   "source": [
    "• This is useful when you need to convert between different types, such as turning an integer into a string or a float into an integer.\\\n",
    "• Python provides several built-in functions to accomplish type casting.\n",
    "## 💡 Benefits\n",
    "1. **Interoperability:** Type casting allows seamless interaction between systems that represent datWdifferentIy (e.g., strings vs. integers). When users input numeric values as strings, casting them to integers or floats allows the data to be processed for calculations.\n",
    "2. **Data Cleaning:** Data from various sources such as APIs, files, and user inputs often come in a non-ideal format. Type casting helps normalize this data for further analysis, calculations, or visualizations.\n",
    "3. **Error Prevention:** Converting types can prevent errors during operations that expect specific data types. For example, performing mathematical operations on strings without casting them to numbers would result in errors.\n",
    "4. **Efficiency in Data Processing:** In data-heavy applications like sensor readings or financial transactions, converting data to the appropriate types (e.g., float for precision) ensures the"
   ]
  },
  {
   "cell_type": "markdown",
   "metadata": {},
   "source": [
    "## 💡 Integer to Float (int to float)"
   ]
  },
  {
   "cell_type": "code",
   "execution_count": null,
   "metadata": {},
   "outputs": [
    {
     "name": "stdout",
     "output_type": "stream",
     "text": [
      "<class 'int'>\n",
      "<class 'float'>\n",
      "10.0\n"
     ]
    }
   ],
   "source": [
    "# Integer to Float (int to float)\n",
    "age_int = 10\n",
    "age_float = float(age_int)\n",
    "print(type(age_int)) # Output: <Class ‘int’>\n",
    "print(type(age_float)) # Output: <Class ‘float’>\n",
    "print(age_float) # Output: 10.0\n"
   ]
  },
  {
   "cell_type": "markdown",
   "metadata": {},
   "source": [
    "## 💡 Float to Integer (float to int)"
   ]
  },
  {
   "cell_type": "code",
   "execution_count": null,
   "metadata": {},
   "outputs": [
    {
     "name": "stdout",
     "output_type": "stream",
     "text": [
      "<class 'int'>\n",
      "<class 'float'>\n",
      "9\n"
     ]
    }
   ],
   "source": [
    "# Float to Integer (float to int)\n",
    "age_float = 9.8\n",
    "age_integer = int(age_float)\n",
    "print(type(age_integer)) # Output: <Class ‘int’>\n",
    "print(type(age_float)) # Output: <Class ‘float’>\n",
    "print(age_integer) # Output: 9"
   ]
  },
  {
   "cell_type": "markdown",
   "metadata": {},
   "source": [
    "## 💡 Float or Integer to String (float or int to str)"
   ]
  },
  {
   "cell_type": "code",
   "execution_count": null,
   "metadata": {},
   "outputs": [
    {
     "name": "stdout",
     "output_type": "stream",
     "text": [
      "100\n",
      "100.5\n",
      "<class 'str'>\n"
     ]
    }
   ],
   "source": [
    "# Float or Integer to String (float or int to str)\n",
    "num_int = 100\n",
    "num_float = 100.5\n",
    "num_str = str(num_int)\n",
    "num_string= str(num_float)\n",
    "print(num_str) #Output: “100”\n",
    "print(num_string) #Output: “100.5”\n",
    "print(type(num_str)) # Output: < Class ‘str’>\n"
   ]
  },
  {
   "cell_type": "markdown",
   "metadata": {},
   "source": [
    "## 💡 String to Float or Integer (str to floast or int)"
   ]
  },
  {
   "cell_type": "code",
   "execution_count": null,
   "metadata": {},
   "outputs": [
    {
     "name": "stdout",
     "output_type": "stream",
     "text": [
      "50\n",
      "<class 'int'>\n",
      "123.45\n",
      "<class 'float'>\n"
     ]
    }
   ],
   "source": [
    "# String to Float or Integer (str to floast or int)\n",
    "num_str = \"50\"\n",
    "num_int = int(num_str)\n",
    "print(num_int) # Output: 50\n",
    "print(type(num_int)) # Output: < class ‘int’ >\n",
    "num_str = \"123.45\"\n",
    "num_float = float(num_str)\n",
    "print(num_float) # Output: 123.45\n",
    "print(type(num_float))  # Output: < class ‘float’ >\n"
   ]
  },
  {
   "cell_type": "markdown",
   "metadata": {},
   "source": [
    "## 💡 List to Tuple and vice versa (list to tuple vice versa)"
   ]
  },
  {
   "cell_type": "code",
   "execution_count": 2,
   "metadata": {},
   "outputs": [
    {
     "name": "stdout",
     "output_type": "stream",
     "text": [
      "(1, 2, 3)\n",
      "<class 'tuple'>\n",
      "[1, 2, 3]\n",
      "<class 'list'>\n"
     ]
    }
   ],
   "source": [
    "# List to Tuple and vice versa (list to tuple vice versa)\n",
    "my_list = [1,2,3]\n",
    "my_tuple_to_list = tuple(my_list) \n",
    "print(my_tuple_to_list) # Output: (1,2,3)\n",
    "print(type(my_tuple_to_list)) # Output: < class ‘tuple’ >\n",
    "# Example: Tuple to list\n",
    "my_tuple = (1,2,3)\n",
    "my_list_to_tuple = list(my_tuple)\n",
    "print(my_list_to_tuple) # Output: [1,2,3]\n",
    "print(type(my_list_to_tuple)) # Output: < class ‘list’ >\n"
   ]
  },
  {
   "cell_type": "markdown",
   "metadata": {},
   "source": [
    "## 💡 List To Set (list to set)"
   ]
  },
  {
   "cell_type": "code",
   "execution_count": 3,
   "metadata": {},
   "outputs": [
    {
     "name": "stdout",
     "output_type": "stream",
     "text": [
      "{1, 2, 3}\n",
      "<class 'set'>\n",
      "[1, 2, 3]\n",
      "<class 'list'>\n"
     ]
    }
   ],
   "source": [
    "# Example: List to set\n",
    "my_list = [1,2,3]\n",
    "my_list_to_set = set(my_list) \n",
    "print(my_list_to_set) # Output: {1,2,3}\n",
    "print(type(my_list_to_set)) # Output: < class ‘set’ >\n",
    "# Example: Tuple to list\n",
    "my_set = {1,2,3}\n",
    "my_set_To_list = list(my_set)\n",
    "print(my_set_To_list) # Output: [1,2,3]\n",
    "print(type(my_set_To_list)) # Output: < class ‘list’ >"
   ]
  },
  {
   "cell_type": "markdown",
   "metadata": {},
   "source": [
    "## 💡 Casting to Boolean (casting to bool)"
   ]
  },
  {
   "cell_type": "code",
   "execution_count": 6,
   "metadata": {},
   "outputs": [
    {
     "name": "stdout",
     "output_type": "stream",
     "text": [
      "True\n",
      "<class 'bool'>\n",
      "False\n",
      "<class 'bool'>\n"
     ]
    }
   ],
   "source": [
    "# Casting to BoolEAN (casting to bool)\n",
    "num = \"None\"\n",
    "bool_value=bool(num)\n",
    "print(bool_value)  # Output: True\n",
    "print(type(bool_value)) # Output: < class ‘bool’ >\n",
    "\n",
    "empty_list = []\n",
    "bool_empty_list = bool(empty_list)\n",
    "print(bool_empty_list) # Output: False\n",
    "print(type(bool_empty_list)) # Output: < class ‘bool’ >\n"
   ]
  },
  {
   "cell_type": "markdown",
   "metadata": {},
   "source": [
    "![Figure03:](fig03.jpg)"
   ]
  }
 ],
 "metadata": {
  "kernelspec": {
   "display_name": "Python 3",
   "language": "python",
   "name": "python3"
  },
  "language_info": {
   "codemirror_mode": {
    "name": "ipython",
    "version": 3
   },
   "file_extension": ".py",
   "mimetype": "text/x-python",
   "name": "python",
   "nbconvert_exporter": "python",
   "pygments_lexer": "ipython3",
   "version": "3.13.7"
  }
 },
 "nbformat": 4,
 "nbformat_minor": 2
}
