# 📘 **Variables and Types**

# 📘 ** Variables**
A variable is a symbolic name that references or points to an object in memory.\
• It allows programmers to store data and manipulate it throughout the code.\
• Think of a variable as a labeled box where you can place data and retrieve it when needed.\
In Python, declaring a variable is straightforward. You simply assign a value to a variable name using the ```= operator```.\
# 📘 Variable assignment
```python
x = 10
name= "Alice"
is_active = True
```
• x, name, and is_active are variables.\
• 10, "Alice", and True are the values assigned to these variables.\
**Note:** Unlike some other programming languages, Python does not require you to declare the type ofa variable explicitly.\
# 📘 Variable naming Rules
1 . **Case-Sensitive:** Variable names are case-sensitive.\
a. age, Age, and AGE are three different variables.\
2. **Start with a Letter or Underscore:** Variable names must start with a letter (a-z, A-Z) or an underscore _.\
a. Valid: _value, datal\
b. Invalid: 1 data, #score\
3. **Followed by Letters, Digits, or Underscores:** After the first character,you can use letters, digits, or underscores.\
a. Valid: value_1, data_set\
b. Invalid: **data-set (hyphens are not allowed)**
# 📘 Variables naming -Conventions
1. **Use Lowercase Letters**\
a. Example: total_score, user_name\
2. **Avoid Reserved Keywords**\
a. Reserved keywordsåhclude if, else, while, for, class, def, etc.\
3. **Meaningful Names**\
a. Good: student_count, average_height\
b. Bad: x, y, data (unless used in a specific context)\
4. **Constants in Uppercase**\
a. Mostly used in UPPER CASE\
b. Example: PI = 3.1416

![Figure_01:](fig01.png)

Varible is name that refers to a value.The value can be changed,hence the name variable.In Python,varibels can be declared and values can be assigned to is as follow:
These are the types of varibles in Python:\
1.Numbers\
2.String\
3.List\
4.Tuple\
5.Dicitionary\
6.Set\
7.Boolean\
8.None\
9.Bytes and Bytearray


```python
age = 20
```

```python
print(age)
```

```python
print("I am",age,"yers old.")
```

```python
name="Khurram"
```

```python
print("My name is",name)
```

```python
is_student=True
```

```python
print("Am i Student",is_student)
```

```python
height=5.10
```

```python
print("My height is ",height,"feet")
```
